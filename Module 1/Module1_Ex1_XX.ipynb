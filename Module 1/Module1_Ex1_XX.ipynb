{
 "cells": [
  {
   "cell_type": "markdown",
   "metadata": {
    "tags": []
   },
   "source": [
    "# Lab Session #1\n",
    "## Computational Neurophysiology [E010620A]\n",
    "### Dept of Electronics and Informatics (VUB) and Dept of Information Technology (UGent)\n",
    "Jorne Laton, Lloyd Plumart, Talis Vertriest, Jeroen Van Schependom, Sarah Verhulst"
   ]
  },
  {
   "attachments": {},
   "cell_type": "markdown",
   "metadata": {},
   "source": [
    "<font color=blue>Student names and IDs:</font> Robbe De Beck [01902805] & Robbe De Muynck [01908861]\n",
    "<br>\n",
    "<font color=blue>Academic Year:</font> 2022-2023"
   ]
  },
  {
   "cell_type": "markdown",
   "metadata": {
    "tags": []
   },
   "source": [
    "### General Introduction\n",
    "In all the practical sessions of this course we will use python 3 and jupyter notebooks. Install Anaconda on your computer and open jupyter notebook by typing \"jupyter notebook\" or \"jupyter lab\" in the command line. Your browser will open a file explorer, from where you can navigate to the exercise.\n",
    "\n",
    "The lab sessions consist of a jupyter notebook in which the different steps are described and explained, together with the tasks you are asked to complete.\n",
    "\n",
    "You will form groups of two and submit one report per group. Reports should be formatted according to the guiding document. Make sure your answers stand out in the final submitted document!\n",
    "\n",
    "Deadline: 2 weeks after lecture. Reports submitted after the deadline will not be graded."
   ]
  },
  {
   "cell_type": "markdown",
   "metadata": {
    "tags": []
   },
   "source": [
    "### Context and Goals\n",
    "This lab session is focused on the Hodgkin-Huxley (HH) model, following and reproducing the theoretical chapter that can be found here: https://neuronaldynamics.epfl.ch/online/Ch2.S2.html. You will be asked to complete code scripts, make observations and explain the results of the different simulations, and contextualise the analyses with the HH model theoretical background.\n"
   ]
  },
  {
   "cell_type": "markdown",
   "metadata": {},
   "source": [
    "# Questions\n",
    "## Part 1: Hodgkin-Huxley model equations\n",
    "### Q1.1 HH equations <a id=\"Q1.1\"/>\n",
    "We are coding the HH equations by a single or by multiple functions, to reproduce the behaviour of a human pyramidal neuron when excited. This will be the function to be made to perform the HH model is the following: \n",
    "\n",
    "`\n",
    "m, h, n, V, INa, IK, alpha_m, alpha_n, alpha_h, beta_m, beta_n, beta_h = HH_model(T, I_input, dt)\n",
    "`\n",
    "\n",
    "The inputs are:\n",
    "1. `T` -> Time window of simulation [ms]\n",
    "2. `I_input` -> input current [µA]\n",
    "3. `dt` -> the rate of update [ms]\n",
    "\n",
    "The outputs are: \n",
    "1. `V` -> the voltage of neuron [mV]\n",
    "2. `m` -> activation variable for Na-current [u/cm^2]\n",
    "3. `h` -> inactivation variable for Na-current [u/cm^2]\n",
    "4. `n` -> activation variable for K-current [u/cm^2]\n",
    "5. `t` -> the time axis of the simulation (useful for plotting) [ms]\n",
    "6. `I_Na` -> Na current [µA/cm^2]\n",
    "7. `I_K` -> K current [µA/cm^2]\n",
    "8. `alpha_m, beta_m, alpha_n, beta_n, alpha_h, beta_h` -> gating parameters [1/ms]\n",
    "\n",
    "You can use the functions that are already provided to retrieve some parameters. To complete the code, you can find the equations and parameter values in https://neuronaldynamics.epfl.ch/online/Ch2.S2.html.\n",
    "\n",
    "Q1.1a Implement the update equations of the gating variables m, n and h as described in Table 2.1 of the online version of the book and reproduce Figure 2.3.\n",
    "\n",
    "Q1.1b Make the plots and describe in your own words what you have plotted.\n",
    "\n",
    "Q1.1c Unfortunately, when simulating the HH model with these parameters, you will not get a K-current. Please adjust (u-25) by (u+25) in the update equations for gating variable $n$.\n",
    "\n",
    "* [Import these modules](#P1_imports)\n",
    "\n",
    "* [Fill in answers here](#A1.1)"
   ]
  },
  {
   "cell_type": "markdown",
   "metadata": {},
   "source": [
    "### Q1.2 Simulate the response to an impulse current <a id=\"Q1.2\"/>\n",
    "To try out whether the designed functions work, design a step function (A1.2a) that can be used to model the current input (A1.2b). Consider the following design parameters:\n",
    "\n",
    "1. `I_input function` -> step function \n",
    "2. `T` -> time of simulation: 100 ms\n",
    "3. `dt` -> update time: 0.01 ms\n",
    "4. Current impulse `I_input`: 20 µA between 1 and 2 ms.\n",
    "\n",
    "* [Fill in answers here](#A1.2)"
   ]
  },
  {
   "cell_type": "markdown",
   "metadata": {
    "tags": []
   },
   "source": [
    "### Q1.3. Plot V(t) <a id=\"Q1.3\"/>\n",
    "Plot the first 20 ms of $V(t)$.\n",
    "\n",
    "Describe the dynamics of the neural voltage $V$.\n",
    "Does it make sense?\n",
    "\n",
    "* [Fill in answers here](#A1.3)"
   ]
  },
  {
   "cell_type": "markdown",
   "metadata": {},
   "source": [
    "### Q1.4 Plot the model parameters <a id=\"Q1.4\"/>\n",
    "Plot the model parameters n, m and h in function of t and again limit the plots to the first 20 ms. Describe the dynamics of the model parameters m, n, and h. Does it make sense? Describe how the gates swing open and closed during the dynamics of a spike.\n",
    "* [Fill in answers here](#A1.4)"
   ]
  },
  {
   "cell_type": "markdown",
   "metadata": {},
   "source": [
    "### Q1.5. Plot I_Na and I_K <a id=\"Q1.5\"/>\n",
    "Plot I_Na and I_K in function of t (again only the first 20 ms).\n",
    "\n",
    "Describe the dynamics of the currents. Does it make sense? Describe the currents flows during a spike.\n",
    "\n",
    "* [Fill in answers here](#A1.5)"
   ]
  },
  {
   "cell_type": "markdown",
   "metadata": {},
   "source": [
    "### Q1.6. Plot the conductances g_Na and g_K <a id=\"Q1.6\"/>\n",
    "Plot the conductances g_Na, g_K in function of t (again only the first 20 ms).\n",
    "\n",
    "How are the conductances evolving during a spike?\n",
    "\n",
    "* [Fill in answers here](#A1.6)"
   ]
  },
  {
   "cell_type": "markdown",
   "metadata": {},
   "source": [
    "## Part 2: Package BRIAN"
   ]
  },
  {
   "cell_type": "markdown",
   "metadata": {},
   "source": [
    "In the second part of the practical, you are going to use the Brian library to simulate the dynamics of a squid neuron when excited. To learn more about this module, read this paper: https://pubmed.ncbi.nlm.nih.gov/19115011/ . \n",
    "Before starting, the Brian module must be installed, together with the neurodynex3 module. Open the anaconda prompt, and install the brian2 package:\n",
    "\n",
    "`conda install -c conda-forge brian2`\n",
    "\n",
    "and then the neurodynex3 package:\n",
    "\n",
    "`pip install neurodynex3`\n",
    "\n",
    "### Note\n",
    "If you are working on Linux or one of the newest mac OS systems, you might check whether your pip command is actually pip3.  \n",
    "\n",
    "After installing, the packages are ready to use! If you need more information about the modules, you can find it here https://briansimulator.org/.\n",
    "\n",
    "* [Import these modules](#P2_imports)"
   ]
  },
  {
   "cell_type": "markdown",
   "metadata": {},
   "source": [
    "### Q2.1 Step current response <a id=\"Q2.1\"/>\n",
    "We study the response of a Hodgkin-Huxley squid neuron to different input currents. \n",
    "\n",
    "Have a look at the documentation of the functions `HH.simulate_HH_neuron()` and `HH.plot_data()` and the module `neurodynex3.tools.input_factory`.\n",
    "\n",
    "By using the mentioned functions, code the following steps: \n",
    "1. Step function for the input current \n",
    "2. Run the HH simulation (for 300ms)\n",
    "3. Plot the results of this simulation \n",
    "\n",
    "Vary the amplitude of the input current between 0.1 and 50 µA between 50 and 250ms.\n",
    "Describe the different dynamics of the spiking neuron. \n",
    "\n",
    "What is the lowest step current amplitude to generate a spike or to generate repetitive firing?\n",
    "Discuss the difference between the two regimes.\n",
    "\n",
    "* [Fill in answer here](#A2.1)"
   ]
  },
  {
   "cell_type": "markdown",
   "metadata": {},
   "source": [
    "### Q2.2 Slow and fast ramp current\n",
    "The minimal current to elicit a spike does not just depend on the amplitude I or on the total charge Q of the current, but on the “shape” of the current. Let’s investigate why."
   ]
  },
  {
   "cell_type": "markdown",
   "metadata": {},
   "source": [
    "#### Q2.2.1 Slow ramp current <a id=\"Q2.2.1\"/>\n",
    "Inject a slow ramp current into a HH neuron. The current is 0 µA at t = 0 and starts at 5 ms, linearly increasing to an amplitude of 14.0 µA at t = t_ramp_end. At t > t_ramp_end, the current is set back to 0 µA. \n",
    "A slow ramp duration could be between 30-100 ms.\n",
    "\n",
    "Experiment with different t_ramp_end values to discover the maximal duration of a ramp, such that the neuron does not spike. Make sure you simulate for at least 20ms after t_ramp_end.\n",
    "\n",
    "Q2.2.1a Use the function `HH.plot_data()` to visualize the dynamics of the system.\n",
    "\n",
    "Q2.2.1b What is the membrane voltage at the time when the current injection stops (t=slow_ramp_t_end)?\n",
    "\n",
    "* [Fill in answers here](#A2.2.1)"
   ]
  },
  {
   "cell_type": "markdown",
   "metadata": {},
   "source": [
    "#### Q2.2.2 Fast ramp current <a id=\"Q2.2.2\"/>\n",
    "Q2.2.2a Do the same as before but this time for a fast ramp current. Start the linearly increasing input current again at t = 5 ms. The amplitude at t = t_ramp_end is 5.0 µA. Start with a duration of 5 ms and then increase the ramp duration it until no spike occurs.\n",
    "Use the function `HH.plot_data()` to visualize the dynamics of the system.\n",
    "\n",
    "Q2.2.2b What is the membrane voltage at the time when the current injection stops (t=slow_ramp_t_end)?\n",
    "\n",
    "* [Fill in answers here](#A2.2.2)"
   ]
  },
  {
   "cell_type": "markdown",
   "metadata": {},
   "source": [
    "#### Q2.2.3. Differences <a id=\"Q2.2.3\"/>\n",
    "Discuss the differences between the two situations. Why are the two “threshold” voltages different? Link your observation to the gating variables m, n and h.\n",
    "\n",
    "Hint: have a look at Chapter 2, Figure 2.3.\n",
    "\n",
    "* [Fill in answers here](#A2.2.3)"
   ]
  },
  {
   "cell_type": "markdown",
   "metadata": {
    "jp-MarkdownHeadingCollapsed": true,
    "tags": []
   },
   "source": [
    "### Q2.3 Rebound Spike <a id=\"Q2.3\"/>\n",
    "A HH neuron can spike not only if it receives a sufficiently strong depolarizing input current but also after a hyperpolarizing current. Such a spike is called a rebound spike.\n",
    "\n",
    "Inject a hyperpolarizing step current I_input = -1 µA for a duration of 25 ms into the HH neuron. Simulate the neuron for 50 ms and plot the voltage trace and the gating variables. Repeat the simulation with I_input = -5 µA. What is happening here? To which gating variable do you attribute this rebound spike?\n",
    "\n",
    "It may be difficult to to see which gating parameter is responsible for depolarisation (and a possible consequent rebound spike) after a negative current injection. Therefore, also plot the real ratio of n and m, together with the effect of h and use this plot to answer the above question.\n",
    "\n",
    "* [Fill in answers here](#A2.3)"
   ]
  },
  {
   "cell_type": "markdown",
   "metadata": {
    "tags": []
   },
   "source": [
    "# Answers"
   ]
  },
  {
   "cell_type": "markdown",
   "metadata": {
    "tags": []
   },
   "source": [
    "## Part 1: Hodgkin-Huxley model equations"
   ]
  },
  {
   "cell_type": "markdown",
   "metadata": {
    "tags": []
   },
   "source": [
    "### Imports <a id=\"P1_imports\"/>"
   ]
  },
  {
   "cell_type": "code",
   "execution_count": 2,
   "metadata": {
    "tags": []
   },
   "outputs": [],
   "source": [
    "# Import and add all the libraries you need throughout the code\n",
    "\n",
    "import math as m\n",
    "import numpy as np\n",
    "import matplotlib.pyplot as plt\n",
    "\n",
    "# Make your graphs colorblind-friendly\n",
    "plt.style.use('tableau-colorblind10')"
   ]
  },
  {
   "cell_type": "markdown",
   "metadata": {
    "jp-MarkdownHeadingCollapsed": true,
    "tags": []
   },
   "source": [
    "### A1.1: HH Equations <a id=\"A1.1\"/>\n",
    "* [Go back to Q1.1](#Q1.1) "
   ]
  },
  {
   "cell_type": "code",
   "execution_count": 18,
   "metadata": {
    "tags": []
   },
   "outputs": [],
   "source": [
    "# A1.1a Enter your code at the bottom of this cell\n",
    "\n",
    "# Use the following variable names:\n",
    "#T\n",
    "#I_input\n",
    "#dt\n",
    "#alpha_m\n",
    "#beta_m\n",
    "#alpha_n\n",
    "#beta_n\n",
    "#alpha_h\n",
    "#beta_h\n",
    "#m\n",
    "#h\n",
    "#n\n",
    "#V\n",
    "#t\n",
    "#I_Na\n",
    "#I_K\n",
    "#I_L\n",
    "\n",
    "\n",
    "# Hints:\n",
    "# Reversal potentials have unit mV\n",
    "# Constant conductances have unit mS/cm2\n",
    "        \n",
    "##################################\n",
    "##   A1.1a solutions functions   ##\n",
    "##################################\n",
    "def gating_variable_m(u):\n",
    "    beta_m = -0.124*(u+35)/(1-np.exp((u+35)/9))\n",
    "    alpha_m = 0.182*(u+35)/(1-np.exp(-(u+35)/9))\n",
    "    return alpha_m, beta_m\n",
    "    \n",
    "def gating_variable_n(u):\n",
    "    beta_n = -0.002*(u-25)/(1-np.exp((u-25)/9))\n",
    "    alpha_n = 0.02*(u-25)/(1-np.exp(-(u-25)/9))\n",
    "    return alpha_n, beta_n\n",
    "\n",
    "def gating_variable_h(u):\n",
    "    beta_h = 0.25*np.exp((u+62)/6)/np.exp((u+90)/12)\n",
    "    alpha_h= 0.25*np.exp(-(u+90)/12)\n",
    "    return alpha_h, beta_h\n",
    "\n",
    "def x_0(gating_variable):\n",
    "    alpha_x, beta_x = gating_variable\n",
    "    return alpha_x/(alpha_x + beta_x)\n",
    "\n",
    "def tau_x(gating_variable):\n",
    "    alpha_x, beta_x = gating_variable\n",
    "    return 1/(alpha_x + beta_x)\n",
    "    \n",
    "def HH_model(T, I_input, dt):\n",
    "    ### set conductances & reversal potentials\n",
    "    g_Na_0 = 40 # mS/cm²\n",
    "    E_Na = 55   # mV\n",
    "    g_K_0 = 35\n",
    "    E_K = -77\n",
    "    g_L_0 = 0.3\n",
    "    E_L = -65\n",
    "    C_m = 1     # µF/cm²\n",
    "    \n",
    "    ### construct simulation time array\n",
    "    T_n = int(np.ceil(T/dt))  \n",
    "    t = np.arange(0, T_n)*dt # ms\n",
    "\n",
    "    ### initialize output arrays\n",
    "    V = np.zeros(T_n)\n",
    "    I_Na = np.zeros(T_n)\n",
    "    I_K = np.zeros(T_n)\n",
    "    I_L = np.zeros(T_n)\n",
    "\n",
    "    alpha_m, beta_m = np.zeros(T_n), np.zeros(T_n)\n",
    "    alpha_h, beta_h = np.zeros(T_n), np.zeros(T_n)\n",
    "    alpha_n, beta_n = np.zeros(T_n), np.zeros(T_n)\n",
    "\n",
    "    m = np.zeros(T_n)\n",
    "    h = np.zeros(T_n)\n",
    "    n = np.zeros(T_n)\n",
    "    \n",
    "    # neuronal resting potential\n",
    "    V[0]= -65   # mV\n",
    "    \n",
    "    # asymptotic target values for gating variables\n",
    "    alpha_m[0], beta_m[0] = gating_variable_m(V[0])\n",
    "    alpha_h[0], beta_h[0] = gating_variable_h(V[0])\n",
    "    alpha_n[0], beta_n[0] = gating_variable_n(V[0])\n",
    "    m[0]= x_0((alpha_m[0], beta_m[0]))\n",
    "    h[0]= x_0((alpha_h[0], beta_h[0]))\n",
    "    n[0]= x_0((alpha_n[0], beta_n[0]))\n",
    "    print(f\"Initial gating parameters:\\nm_0: {m[0]:.4f}\\nh_0: {h[0]:.4f}\\nn_0: {n[0]:.4f}\")\n",
    "\n",
    "    # ionic currents\n",
    "    I_Na[0] = g_Na_0 * m[0]**3 * h[0] * (V[0]-E_Na)\n",
    "    I_K[0] = g_K_0 * n[0]**4 * (V[0]-E_K)\n",
    "    I_L[0] = g_L_0 * (V[0]-E_L)\n",
    "    \n",
    "    ### run update loop\n",
    "    for i in range(0, T_n-1):\n",
    "        # voltage & gating variables for NEXT timepoint\n",
    "        # using CURRENT alpha, beta & currents\n",
    "        V[i+1] = V[i] + dt/C_m*(-I_Na[i] - I_K[i] - I_L[i] + I_input[i])\n",
    "\n",
    "        m[i+1] = m[i] + dt*(alpha_m[i]*(1-m[i]) - beta_m[i]*m[i])\n",
    "        h[i+1] = h[i] + dt*(alpha_h[i]*(1-h[i]) - beta_h[i]*h[i])\n",
    "        n[i+1] = n[i] + dt*(alpha_n[i]*(1-n[i]) - beta_n[i]*n[i])\n",
    "\n",
    "        # calculate NEXT alpha, beta & currents\n",
    "        alpha_m[i+1], beta_m[i+1] = gating_variable_m(V[i+1])\n",
    "        alpha_h[i+1], beta_h[i+1] = gating_variable_h(V[i+1])\n",
    "        alpha_n[i+1], beta_n[i+1] = gating_variable_n(V[i+1])\n",
    "\n",
    "        I_Na[i+1] = g_Na_0 * m[i+1]**3 * h[i+1] * (V[i+1]-E_Na)\n",
    "        I_K[i+1] = g_K_0 * n[i+1]**4 * (V[i+1]-E_K)\n",
    "        I_L[i+1] = g_L_0 * (V[i+1]-E_L)\n",
    "\n",
    "    ### cluster gating params\n",
    "    gating_params = (alpha_m,  beta_m, alpha_h, beta_h, alpha_n, beta_n)\n",
    "    \n",
    "    return V, m, h, n, t, I_Na, I_K, I_L, gating_params"
   ]
  },
  {
   "cell_type": "code",
   "execution_count": 19,
   "metadata": {
    "tags": []
   },
   "outputs": [
    {
     "data": {
      "image/png": "[encoded data removed]",
      "text/plain": [
       "<Figure size 864x432 with 2 Axes>"
      ]
     },
     "metadata": {
      "needs_background": "light"
     },
     "output_type": "display_data"
    }
   ],
   "source": [
    "# A1.1b Plot your graph below\n",
    "\n",
    "# Hint: the first graph plots rate constants (n, m and h in function of membrane voltage)\n",
    "# Hint: the second graph plots the voltage dependent time constants (tau_n, tau_m and tau_h in function of membrane voltage)\n",
    "\n",
    "# What is your conclusion?\n",
    "\n",
    "##############################\n",
    "##   A1.1b plots   ##\n",
    "##############################\n",
    "\n",
    "def nmh_plot(n, m, h):\n",
    "    fig, axs = plt.subplots(1,2, figsize=(12,6))\n",
    "    axs[0].plot(V, x_0(n),label='n')\n",
    "    axs[0].plot(V, x_0(m),label='m')\n",
    "    axs[0].plot(V, x_0(h),label='h')\n",
    "    axs[0].axvline(x=-65, linestyle=':', color='k', alpha=0.5, label='-65 µV')\n",
    "    axs[0].legend()\n",
    "    axs[0].set_title('Voltage-dependent asymptotic values')\n",
    "    axs[0].set_xlabel('u [mV]')\n",
    "    axs[0].set_ylabel('$x_0$(u)')\n",
    "\n",
    "    axs[1].plot(V, tau_x(n), label='n')\n",
    "    axs[1].plot(V, tau_x(m), label='m')\n",
    "    axs[1].plot(V, tau_x(h), label='h')\n",
    "    axs[1].axvline(x=-65, linestyle=':', color='k', alpha=0.5, label='-65 µV')\n",
    "    axs[1].legend(loc=5)\n",
    "    axs[1].set_title('Voltage-dependent time constants')\n",
    "    axs[1].set_xlabel('u [mV]')\n",
    "    axs[1].set_ylabel(r'$\\tau_x$(u) [ms]')\n",
    "    plt.suptitle('Equilibrium functions in the HH-model')\n",
    "    plt.show()\n",
    "\n",
    "V = np.linspace(-100,100,100)\n",
    "nmh_plot(gating_variable_n(V), gating_variable_m(V), gating_variable_h(V))\n",
    "\n",
    "#########################\n",
    "##   A1.1b conclusion   ##\n",
    "#########################\n",
    "\n",
    "# Answer in green box below"
   ]
  },
  {
   "attachments": {},
   "cell_type": "markdown",
   "metadata": {},
   "source": [
    "<div class=\"alert alert-success\">\n",
    "<span style=\"color:black\">\n",
    "    \n",
    "**A1.1b conclusion** \n",
    "\n",
    "\\begin{tcolorbox}[colback=green!5]\n",
    "    \n",
    "In the above plots, the characteristics of the parameters of the HH-model are visualised: m, n and h (which represent the channel kinetics) are gating variables to model the probability that a given channel is open in time.\n",
    "\n",
    "'h' is used to describe the inhibitory characteristics of the Na^+ channels, while 'm' is used to describe the excitatory characteristics of the Na^+ channels.\n",
    "'n' is used to describe the 'openness' of the K^+ channels.\n",
    "\n",
    "In the HH-model, the gating variable approaches an asymptotic target value x0 with a time constant τx: the asymptotic target value (left plot) and the time constant are voltage-dependent (right plot). This voltage-dependency is visualised for each gating variable in the plot above.\n",
    "As a visual aid, the resting membrane potential of -65 µV is plotted as a verticle line.\n",
    "\n",
    "\\end{tcolorbox}\n",
    "</span>"
   ]
  },
  {
   "cell_type": "code",
   "execution_count": 34,
   "metadata": {
    "tags": []
   },
   "outputs": [],
   "source": [
    "# A1.1c Enter the updated HH model here\n",
    "\n",
    "########################################\n",
    "##   A1.1c updated HH model solution   ##\n",
    "########################################\n",
    "            \n",
    "def gating_variable_n_updated(u):\n",
    "    beta_n = -0.002*(u+25)/(1-np.exp((u+25)/9))\n",
    "    alpha_n = 0.02*(u+25)/(1-np.exp(-(u+25)/9))\n",
    "    return alpha_n, beta_n\n",
    "\n",
    "def HH_model_updated(T, I_input, dt):\n",
    "    ### set conductances & reversal potentials\n",
    "    g_Na_0 = 40 # mS/cm²\n",
    "    E_Na = 55   # mV\n",
    "    g_K_0 = 35\n",
    "    E_K = -77\n",
    "    g_L_0 = 0.3\n",
    "    E_L = -65\n",
    "    C_m = 1     # µF/cm²\n",
    "    \n",
    "    ### construct simulation time array\n",
    "    T_n = int(np.ceil(T/dt))  \n",
    "    t = np.arange(0, T_n)*dt # [ms]\n",
    "\n",
    "    ### initialize output arrays\n",
    "    V = np.zeros(T_n)\n",
    "    I_Na = np.zeros(T_n)\n",
    "    I_K = np.zeros(T_n)\n",
    "    I_L = np.zeros(T_n)\n",
    "\n",
    "    alpha_m, beta_m = np.zeros(T_n), np.zeros(T_n)\n",
    "    alpha_h, beta_h = np.zeros(T_n), np.zeros(T_n)\n",
    "    alpha_n, beta_n = np.zeros(T_n), np.zeros(T_n)\n",
    "\n",
    "    m = np.zeros(T_n)\n",
    "    h = np.zeros(T_n)\n",
    "    n = np.zeros(T_n)\n",
    "    \n",
    "    # neuronal resting potential\n",
    "    V[0]= -65\n",
    "\n",
    "    # asymptotic target values for gating variables\n",
    "    alpha_m[0], beta_m[0] = gating_variable_m(V[0])\n",
    "    alpha_h[0], beta_h[0] = gating_variable_h(V[0])\n",
    "    alpha_n[0], beta_n[0] = gating_variable_n_updated(V[0])\n",
    "    m[0]= x_0((alpha_m[0], beta_m[0]))\n",
    "    h[0]= x_0((alpha_h[0], beta_h[0]))\n",
    "    n[0]= x_0((alpha_n[0], beta_n[0]))\n",
    "    print(f\"Initial gating parameters:\\nm_0: {m[0]:.4f}\\nh_0: {h[0]:.4f}\\nn_0: {n[0]:.4f}\")\n",
    "    \n",
    "    # ionic currents\n",
    "\n",
    "    I_Na[0] = g_Na_0 * m[0]**3 * h[0] * (V[0]-E_Na)\n",
    "    I_K[0] = g_K_0 * n[0]**4 * (V[0]-E_K)\n",
    "    I_L[0] = g_L_0 * (V[0]-E_L)\n",
    "    \n",
    "    ### run update loop\n",
    "    for i in range(0, T_n-1):\n",
    "        # voltage & gating variables for NEXT timepoint\n",
    "        # using CURRENT alpha, beta & currents\n",
    "        V[i+1] = V[i] + dt/C_m*(-I_Na[i] - I_K[i] - I_L[i] + I_input[i])\n",
    "\n",
    "        m[i+1] = m[i] + dt*(alpha_m[i]*(1-m[i]) - beta_m[i]*m[i])\n",
    "        h[i+1] = h[i] + dt*(alpha_h[i]*(1-h[i]) - beta_h[i]*h[i])\n",
    "        n[i+1] = n[i] + dt*(alpha_n[i]*(1-n[i]) - beta_n[i]*n[i])\n",
    "\n",
    "        # calculate NEXT alpha, beta & currents\n",
    "        alpha_m[i+1], beta_m[i+1] = gating_variable_m(V[i+1])\n",
    "        alpha_h[i+1], beta_h[i+1] = gating_variable_h(V[i+1])\n",
    "        alpha_n[i+1], beta_n[i+1] = gating_variable_n_updated(V[i+1])\n",
    "\n",
    "        I_Na[i+1] = g_Na_0 * m[i+1]**3 * h[i+1] * (V[i+1]-E_Na)\n",
    "        I_K[i+1] = g_K_0 * n[i+1]**4 * (V[i+1]-E_K)\n",
    "        I_L[i+1] = g_L_0 * (V[i+1]-E_L)\n",
    "\n",
    "    ### cluster gating params\n",
    "    gating_params = (alpha_m,  beta_m, alpha_h, beta_h, alpha_n, beta_n)\n",
    "    \n",
    "    return V, m, h, n, t, I_Na, I_K, I_L, gating_params"
   ]
  },
  {
   "cell_type": "code",
   "execution_count": 35,
   "metadata": {},
   "outputs": [
    {
     "data": {
      "image/png": "[encoded data removed]",
      "text/plain": [
       "<Figure size 864x432 with 2 Axes>"
      ]
     },
     "metadata": {
      "needs_background": "light"
     },
     "output_type": "display_data"
    }
   ],
   "source": [
    "# Plot with updated gating variable n\n",
    "V = np.linspace(-100,100,100)\n",
    "nmh_plot(gating_variable_n_updated(V), gating_variable_m(V), gating_variable_h(V))"
   ]
  },
  {
   "cell_type": "markdown",
   "metadata": {
    "jp-MarkdownHeadingCollapsed": true,
    "tags": []
   },
   "source": [
    "### A1.2: Response simulation <a id=\"A1.2\"/>\n",
    "* [Go back to Q1.2](#Q1.2) "
   ]
  },
  {
   "cell_type": "code",
   "execution_count": 36,
   "metadata": {
    "tags": []
   },
   "outputs": [
    {
     "data": {
      "image/png": "[encoded data removed]",
      "text/plain": [
       "<Figure size 432x432 with 1 Axes>"
      ]
     },
     "metadata": {
      "needs_background": "light"
     },
     "output_type": "display_data"
    }
   ],
   "source": [
    "# A1.2a Set up and plot your input current\n",
    "\n",
    "######################################\n",
    "##   A1.2a solutions input current   ##\n",
    "######################################\n",
    "\n",
    "def I_step(T, dt, I, start_imp=1, stop_imp=2):\n",
    "    \"\"\"Returns a step current function [µA], based on design parameters\"\"\"\n",
    "    # T = simulation time [ms]\n",
    "    # dt = update time [ms]\n",
    "\n",
    "    t = np.arange(0, np.ceil(T/dt))*dt # time array [ms]\n",
    "    I_step = np.where((t >= start_imp)*(t < stop_imp), I, 0) # step current array [µA]\n",
    "    \n",
    "    return t, I_step\n",
    "\n",
    "# Plot of impulse current\n",
    "T, dt, I = 100, 0.01, 20\n",
    "t, I_input = I_step(T, dt, I)\n",
    "\n",
    "fig, ax = plt.subplots(1,1, figsize=(6,6))\n",
    "ax.plot(t, I_input)\n",
    "ax.set_title('I_input: step function')\n",
    "ax.set_xlabel('time [ms]')\n",
    "ax.set_ylabel('Current I [µA]')\n",
    "plt.show()"
   ]
  },
  {
   "cell_type": "code",
   "execution_count": 37,
   "metadata": {
    "tags": []
   },
   "outputs": [
    {
     "name": "stdout",
     "output_type": "stream",
     "text": [
      "Initial gating parameters:\n",
      "m_0: 0.0498\n",
      "h_0: 0.6225\n",
      "n_0: 0.1051\n"
     ]
    }
   ],
   "source": [
    "# A1.2b Insert the input current into your HH_model function\n",
    "\n",
    "#######################################\n",
    "##   A1.2b insert input in HH_model   ##\n",
    "#######################################\n",
    "T, dt, I = 100, 0.01, 20\n",
    "t, I_input = I_step(T, dt, I)\n",
    "\n",
    "V, m, h, n, t, I_Na, I_K, I_L, gating_params = HH_model_updated(T, I_input, dt)"
   ]
  },
  {
   "cell_type": "markdown",
   "metadata": {
    "jp-MarkdownHeadingCollapsed": true,
    "tags": []
   },
   "source": [
    "### A1.3: Plot V(t) <a id=\"A1.3\"/>\n",
    "* [Go back to Q1.3](#Q1.3) "
   ]
  },
  {
   "cell_type": "code",
   "execution_count": 38,
   "metadata": {
    "tags": []
   },
   "outputs": [
    {
     "data": {
      "image/png": "[encoded data removed]",
      "text/plain": [
       "<Figure size 432x432 with 1 Axes>"
      ]
     },
     "metadata": {
      "needs_background": "light"
     },
     "output_type": "display_data"
    }
   ],
   "source": [
    "# A1.3a Enter your answer below\n",
    "\n",
    "###########################\n",
    "##   A1.3a solution plot  ##\n",
    "###########################\n",
    "\n",
    "fig, ax = plt.subplots(1,1, figsize=(6,6))\n",
    "\n",
    "ax.plot(t, V, label='neural voltage $V(t)$')\n",
    "ax.axhline(y=-65, linestyle=':', color='k', alpha=0.5, label='$V_{rest}$ (-65 µV)')\n",
    "\n",
    "ax.set_title('HH-model: neural voltage $V(t)$ (first 20ms)')\n",
    "ax.set_xlabel('time [ms]')\n",
    "ax.set_ylabel('neural voltage $V$ [mV]')\n",
    "ax.legend()\n",
    "ax.set_xlim([0, 20])\n",
    "plt.show()"
   ]
  },
  {
   "cell_type": "code",
   "execution_count": 39,
   "metadata": {
    "tags": []
   },
   "outputs": [],
   "source": [
    "# A1.3b Enter your interpretation and conclusion below\n",
    "\n",
    "#########################\n",
    "##   A1.3b conclusion   ##\n",
    "#########################\n",
    "\n",
    "# Answer in green box below"
   ]
  },
  {
   "attachments": {},
   "cell_type": "markdown",
   "metadata": {},
   "source": [
    "<div class=\"alert alert-success\">\n",
    "<span style=\"color:black\">\n",
    "    \n",
    "**A1.3b conclusion** \n",
    "\n",
    "\\begin{tcolorbox}[colback=green!5]\n",
    "    \n",
    "The HH-model is stimulated by a short but strong input current during the time interval between 1ms and 2ms: at first, a moderate increase in the membrane potential is seen until a certain treshold is reached. Subsequently, the membrane potential rapidly increases (depolarized) and an action potential is generated. From there on, the membrane experiences hyperpolarization (around 5ms) before returning to its initial resting potential (towards 20ms).\n",
    "\n",
    "\\end{tcolorbox}\n",
    "    \n",
    "</span>"
   ]
  },
  {
   "cell_type": "markdown",
   "metadata": {
    "jp-MarkdownHeadingCollapsed": true,
    "tags": []
   },
   "source": [
    "### A1.4: Plot the model parameters <a id=\"A1.4\"/>\n",
    "* [Go back to Q1.4](#Q1.4) "
   ]
  },
  {
   "cell_type": "code",
   "execution_count": 44,
   "metadata": {
    "tags": []
   },
   "outputs": [
    {
     "data": {
      "image/png": "[encoded data removed]",
      "text/plain": [
       "<Figure size 432x432 with 1 Axes>"
      ]
     },
     "metadata": {
      "needs_background": "light"
     },
     "output_type": "display_data"
    }
   ],
   "source": [
    "# A1.4a Plot your graph below\n",
    "\n",
    "############################\n",
    "##   A1.4a solution plot   ##\n",
    "############################\n",
    "\n",
    "fig, ax = plt.subplots(1,1, figsize=(6,6))\n",
    "ax.plot(t, n, label='n')\n",
    "ax.plot(t, m, label='m')\n",
    "ax.plot(t, h, label='h')\n",
    "\n",
    "ax.set_title('HH-model: model parameters m, n & h (first 20ms)')\n",
    "ax.set_xlabel('time [ms]')\n",
    "ax.set_ylabel('$x(t)$')\n",
    "ax.legend()\n",
    "ax.set_xlim([0, 20])\n",
    "plt.show()"
   ]
  },
  {
   "cell_type": "code",
   "execution_count": 45,
   "metadata": {
    "tags": []
   },
   "outputs": [],
   "source": [
    "# A1.4b Enter your interpretation and conclusion answer below\n",
    "\n",
    "#########################\n",
    "##   A1.4b conclusion   ##\n",
    "#########################\n",
    "\n",
    "# Answer in green box below"
   ]
  },
  {
   "attachments": {},
   "cell_type": "markdown",
   "metadata": {},
   "source": [
    "<div class=\"alert alert-success\">\n",
    "<span style=\"color:black\">\n",
    "    \n",
    "**A1.4b conclusion** \n",
    "    \n",
    "\\begin{tcolorbox}[colback=green!5]\n",
    "    \n",
    "The above figure shows the dynamics of the gating variables and relate to how the action potential is mediated by Na and K channels. 'm' has a very fast response: Na^+ flows rapidly into the neuron, which causes the depolarization of the neuron.\n",
    "Initially, 'h' inhibits the Na^+ transfer. If a certain membrane potential threshold is reached, 'h' drops, results in the loss of inhibitory function and an action potential is generated. After the peak is reached, 'h' slowly rises again (due to a very long time constant) and starts to inhibit the Na^+ inflow, which results in slowly repolarization of the neuron.\n",
    "'n' has an intermediate time constant: right after the action potential, the K^+ channels open, which causes K^+ outflow and therefore hyperpolarization of the neuronal membrane potential.\n",
    "\n",
    "\\end{tcolorbox}\n",
    "    \n",
    "</span>"
   ]
  },
  {
   "cell_type": "markdown",
   "metadata": {
    "jp-MarkdownHeadingCollapsed": true,
    "tags": []
   },
   "source": [
    "### A1.5: Plot I_Na and I_K <a id=\"A1.5\"/>\n",
    "* [Go back to Q1.5](#Q1.5)"
   ]
  },
  {
   "cell_type": "code",
   "execution_count": 47,
   "metadata": {},
   "outputs": [
    {
     "data": {
      "image/png": "[encoded data removed]",
      "text/plain": [
       "<Figure size 432x432 with 1 Axes>"
      ]
     },
     "metadata": {
      "needs_background": "light"
     },
     "output_type": "display_data"
    }
   ],
   "source": [
    "# A1.5a Plot your graph here\n",
    "\n",
    "############################\n",
    "##   A1.5a plot   ##\n",
    "############################\n",
    "\n",
    "fig, ax = plt.subplots(1,1, figsize=(6,6))\n",
    "\n",
    "ax.plot(t, -I_Na, label='I_Na')\n",
    "ax.plot(t, -I_K, label='I_K')\n",
    "\n",
    "ax.set_title('HH-model: current dynamics (first 20 ms)')\n",
    "ax.set_xlabel('time [ms]')\n",
    "ax.set_ylabel('ionic current [µA/cm²]')\n",
    "ax.legend()\n",
    "ax.set_xlim([0, 20])\n",
    "plt.show()"
   ]
  },
  {
   "cell_type": "code",
   "execution_count": 12,
   "metadata": {},
   "outputs": [],
   "source": [
    "# A1.5b Enter your interpretation and conclusion\n",
    "\n",
    "#########################\n",
    "##   A1.5b conclusion   ##\n",
    "#########################\n",
    "\n",
    "# Answer in green box below"
   ]
  },
  {
   "attachments": {},
   "cell_type": "markdown",
   "metadata": {},
   "source": [
    "<div class=\"alert alert-success\">\n",
    "<span style=\"color:black\">\n",
    "    \n",
    "**A1.5b conclusion** \n",
    "    \n",
    "\\begin{tcolorbox}[colback=green!5]\n",
    "    \n",
    "The sodium current I_Na (Na^+ inflow) depends on the variables m and h: it has a sharp positive peak during the upswing of an action potential. This is due to the fast inflow of Na^+ ions into the neuronal cell.\n",
    "The potassium current I_K (K^+ outflow) is controlled by the variable n: it starts with a delay compared to I_Na current and has a negative peak due to the outflow of K^+ ions. The K^+ profile is more 'smeared out' with respect to the Na^+ peak, resulting in the slower K^+ outflow mentioned before.\n",
    "Towards the end of the simulation, both currents return to the 0 µA base value due to the closing of the ion channels.\n",
    "\n",
    "\\end{tcolorbox}\n",
    "    \n",
    "</span>"
   ]
  },
  {
   "cell_type": "markdown",
   "metadata": {
    "jp-MarkdownHeadingCollapsed": true,
    "tags": []
   },
   "source": [
    "### A1.6: Plot the conductances g_Na and g_K <a id=\"A1.6\"/>\n",
    "* [Go back to Q1.6](#Q1.6) "
   ]
  },
  {
   "cell_type": "code",
   "execution_count": 48,
   "metadata": {},
   "outputs": [
    {
     "data": {
      "image/png": "[encoded data removed]",
      "text/plain": [
       "<Figure size 432x432 with 1 Axes>"
      ]
     },
     "metadata": {
      "needs_background": "light"
     },
     "output_type": "display_data"
    }
   ],
   "source": [
    "# A1.6a Enter your code and plot\n",
    "\n",
    "###########################\n",
    "##   A1.6a solution plot  ##\n",
    "###########################\n",
    "\n",
    "g_Na_0 = 40 # mS/cm²\n",
    "g_K_0 = 35\n",
    "\n",
    "g_Na = g_Na_0 * m**3 * h\n",
    "g_K = g_K_0 * n**4\n",
    "\n",
    "fig, ax = plt.subplots(1,1, figsize=(6,6))\n",
    "\n",
    "ax.plot(t, g_Na, label='g_Na')\n",
    "ax.plot(t, g_K, label='g_K')\n",
    "\n",
    "ax.set_title('HH-model: conductances (first 20 ms)')\n",
    "ax.set_xlabel('time [ms]')\n",
    "ax.set_ylabel('conductance [mS/cm²]')\n",
    "ax.legend()\n",
    "ax.set_xlim([0, 20])\n",
    "plt.show()"
   ]
  },
  {
   "cell_type": "code",
   "execution_count": 14,
   "metadata": {},
   "outputs": [],
   "source": [
    "# A1.6b Enter your interpretation and conclusion\n",
    "\n",
    "#########################\n",
    "##   A1.6b conclusion   ##\n",
    "#########################\n",
    "\n",
    "# Answer in green box below"
   ]
  },
  {
   "attachments": {},
   "cell_type": "markdown",
   "metadata": {},
   "source": [
    "<div class=\"alert alert-success\">\n",
    "<span style=\"color:black\">\n",
    "    \n",
    "**A1.6b conclusion** \n",
    "    \n",
    "\\begin{tcolorbox}[colback=green!5]\n",
    "    \n",
    "All ion channels can be characterized by their conductance. This conductance is voltage- and time-dependent (due to the voltage-dependency of m, h and n, which are used to model the ion channel conductances). If the ion channels are open (Na^+ or K^+), they transmit current with a maximum conductance, as can be seen in the plot above. During the spike onset, a high Na^+ conductance is found (depolarization) and afterwards, the K^+ conductance has a peak (hyper- and re-polarization).\n",
    "\n",
    "\\end{tcolorbox}\n",
    "    \n",
    "</span>"
   ]
  },
  {
   "cell_type": "markdown",
   "metadata": {
    "tags": []
   },
   "source": [
    "## Part 2: Package BRIAN"
   ]
  },
  {
   "cell_type": "markdown",
   "metadata": {
    "jp-MarkdownHeadingCollapsed": true,
    "tags": []
   },
   "source": [
    "### Import <a id=\"P2_imports\"/>"
   ]
  },
  {
   "cell_type": "code",
   "execution_count": 130,
   "metadata": {},
   "outputs": [],
   "source": [
    "# The new libraries we need to add\n",
    "\n",
    "%matplotlib inline\n",
    "import brian2 as b2\n",
    "import matplotlib.pyplot as plt\n",
    "import numpy as np\n",
    "from neurodynex3.hodgkin_huxley import HH\n",
    "from neurodynex3.tools import input_factory"
   ]
  },
  {
   "cell_type": "markdown",
   "metadata": {
    "jp-MarkdownHeadingCollapsed": true,
    "tags": []
   },
   "source": [
    "### A2.1 Step current response <a id=\"A2.1\"/>\n",
    "* [Go back to Q2.1](#Q2.1) "
   ]
  },
  {
   "cell_type": "code",
   "execution_count": 131,
   "metadata": {
    "scrolled": false
   },
   "outputs": [
    {
     "ename": "DimensionMismatchError",
     "evalue": "Function \"run\" expected a quantitity with unit second for argument \"duration\" but got 0.3 (unit is 1).",
     "output_type": "error",
     "traceback": [
      "\u001b[1;31m---------------------------------------------------------------------------\u001b[0m",
      "\u001b[1;31mDimensionMismatchError\u001b[0m                    Traceback (most recent call last)",
      "\u001b[1;32m~\\AppData\\Local\\Temp/ipykernel_8948/1023442528.py\u001b[0m in \u001b[0;36m<module>\u001b[1;34m\u001b[0m\n\u001b[0;32m     12\u001b[0m \u001b[1;32mfor\u001b[0m \u001b[0mi\u001b[0m \u001b[1;32min\u001b[0m \u001b[0mrange\u001b[0m\u001b[1;33m(\u001b[0m\u001b[0mN\u001b[0m\u001b[1;33m)\u001b[0m\u001b[1;33m:\u001b[0m\u001b[1;33m\u001b[0m\u001b[1;33m\u001b[0m\u001b[0m\n\u001b[0;32m     13\u001b[0m     \u001b[0mI_input\u001b[0m \u001b[1;33m=\u001b[0m \u001b[0mcurrent_amplitudes\u001b[0m\u001b[1;33m[\u001b[0m\u001b[0mi\u001b[0m\u001b[1;33m]\u001b[0m \u001b[1;33m*\u001b[0m \u001b[0mnp\u001b[0m\u001b[1;33m.\u001b[0m\u001b[0mwhere\u001b[0m\u001b[1;33m(\u001b[0m\u001b[1;33m(\u001b[0m\u001b[0mt\u001b[0m\u001b[1;33m>\u001b[0m\u001b[1;36m50\u001b[0m\u001b[1;33m)\u001b[0m\u001b[1;33m*\u001b[0m\u001b[1;33m(\u001b[0m\u001b[0mt\u001b[0m\u001b[1;33m<\u001b[0m\u001b[1;36m250\u001b[0m\u001b[1;33m)\u001b[0m\u001b[1;33m,\u001b[0m\u001b[1;36m1\u001b[0m\u001b[1;33m,\u001b[0m\u001b[1;36m0\u001b[0m\u001b[1;33m)\u001b[0m \u001b[1;31m# µA\u001b[0m\u001b[1;33m\u001b[0m\u001b[1;33m\u001b[0m\u001b[0m\n\u001b[1;32m---> 14\u001b[1;33m     \u001b[0mState_monitor\u001b[0m \u001b[1;33m=\u001b[0m \u001b[0mHH\u001b[0m\u001b[1;33m.\u001b[0m\u001b[0msimulate_HH_neuron\u001b[0m\u001b[1;33m(\u001b[0m\u001b[0mI_input\u001b[0m\u001b[1;33m,\u001b[0m \u001b[1;36m0.3\u001b[0m\u001b[1;33m)\u001b[0m\u001b[1;33m\u001b[0m\u001b[1;33m\u001b[0m\u001b[0m\n\u001b[0m\u001b[0;32m     15\u001b[0m     \u001b[0mHH\u001b[0m\u001b[1;33m.\u001b[0m\u001b[0mplot_data\u001b[0m\u001b[1;33m(\u001b[0m\u001b[0mState_monitor\u001b[0m\u001b[1;33m)\u001b[0m\u001b[1;33m\u001b[0m\u001b[1;33m\u001b[0m\u001b[0m\n",
      "\u001b[1;32mc:\\Users\\robbe\\anaconda3\\lib\\site-packages\\neurodynex3\\hodgkin_huxley\\HH.py\u001b[0m in \u001b[0;36msimulate_HH_neuron\u001b[1;34m(input_current, simulation_time)\u001b[0m\n\u001b[0;32m    129\u001b[0m     \u001b[0mhh_net\u001b[0m \u001b[1;33m=\u001b[0m \u001b[0mb2\u001b[0m\u001b[1;33m.\u001b[0m\u001b[0mNetwork\u001b[0m\u001b[1;33m(\u001b[0m\u001b[0mneuron\u001b[0m\u001b[1;33m)\u001b[0m\u001b[1;33m\u001b[0m\u001b[1;33m\u001b[0m\u001b[0m\n\u001b[0;32m    130\u001b[0m     \u001b[0mhh_net\u001b[0m\u001b[1;33m.\u001b[0m\u001b[0madd\u001b[0m\u001b[1;33m(\u001b[0m\u001b[0mst_mon\u001b[0m\u001b[1;33m)\u001b[0m\u001b[1;33m\u001b[0m\u001b[1;33m\u001b[0m\u001b[0m\n\u001b[1;32m--> 131\u001b[1;33m     \u001b[0mhh_net\u001b[0m\u001b[1;33m.\u001b[0m\u001b[0mrun\u001b[0m\u001b[1;33m(\u001b[0m\u001b[0msimulation_time\u001b[0m\u001b[1;33m)\u001b[0m\u001b[1;33m\u001b[0m\u001b[1;33m\u001b[0m\u001b[0m\n\u001b[0m\u001b[0;32m    132\u001b[0m \u001b[1;33m\u001b[0m\u001b[0m\n\u001b[0;32m    133\u001b[0m     \u001b[1;32mreturn\u001b[0m \u001b[0mst_mon\u001b[0m\u001b[1;33m\u001b[0m\u001b[1;33m\u001b[0m\u001b[0m\n",
      "\u001b[1;32mc:\\Users\\robbe\\anaconda3\\lib\\site-packages\\brian2\\core\\base.py\u001b[0m in \u001b[0;36mdevice_override_decorated_function\u001b[1;34m(*args, **kwds)\u001b[0m\n\u001b[0;32m    278\u001b[0m                 \u001b[1;32mreturn\u001b[0m \u001b[0mgetattr\u001b[0m\u001b[1;33m(\u001b[0m\u001b[0mcurdev\u001b[0m\u001b[1;33m,\u001b[0m \u001b[0mname\u001b[0m\u001b[1;33m)\u001b[0m\u001b[1;33m(\u001b[0m\u001b[1;33m*\u001b[0m\u001b[0margs\u001b[0m\u001b[1;33m,\u001b[0m \u001b[1;33m**\u001b[0m\u001b[0mkwds\u001b[0m\u001b[1;33m)\u001b[0m\u001b[1;33m\u001b[0m\u001b[1;33m\u001b[0m\u001b[0m\n\u001b[0;32m    279\u001b[0m             \u001b[1;32melse\u001b[0m\u001b[1;33m:\u001b[0m\u001b[1;33m\u001b[0m\u001b[1;33m\u001b[0m\u001b[0m\n\u001b[1;32m--> 280\u001b[1;33m                 \u001b[1;32mreturn\u001b[0m \u001b[0mfunc\u001b[0m\u001b[1;33m(\u001b[0m\u001b[1;33m*\u001b[0m\u001b[0margs\u001b[0m\u001b[1;33m,\u001b[0m \u001b[1;33m**\u001b[0m\u001b[0mkwds\u001b[0m\u001b[1;33m)\u001b[0m\u001b[1;33m\u001b[0m\u001b[1;33m\u001b[0m\u001b[0m\n\u001b[0m\u001b[0;32m    281\u001b[0m \u001b[1;33m\u001b[0m\u001b[0m\n\u001b[0;32m    282\u001b[0m         \u001b[0mdevice_override_decorated_function\u001b[0m\u001b[1;33m.\u001b[0m\u001b[0m__doc__\u001b[0m \u001b[1;33m=\u001b[0m \u001b[0mfunc\u001b[0m\u001b[1;33m.\u001b[0m\u001b[0m__doc__\u001b[0m\u001b[1;33m\u001b[0m\u001b[1;33m\u001b[0m\u001b[0m\n",
      "\u001b[1;32mc:\\Users\\robbe\\anaconda3\\lib\\site-packages\\brian2\\units\\fundamentalunits.py\u001b[0m in \u001b[0;36mnew_f\u001b[1;34m(*args, **kwds)\u001b[0m\n\u001b[0;32m   2387\u001b[0m                                                            \u001b[0munit\u001b[0m\u001b[1;33m=\u001b[0m\u001b[0mrepr\u001b[0m\u001b[1;33m(\u001b[0m\u001b[0mau\u001b[0m\u001b[1;33m[\u001b[0m\u001b[0mk\u001b[0m\u001b[1;33m]\u001b[0m\u001b[1;33m)\u001b[0m\u001b[1;33m,\u001b[0m\u001b[1;33m\u001b[0m\u001b[1;33m\u001b[0m\u001b[0m\n\u001b[0;32m   2388\u001b[0m                                                            value=newkeyset[k])\n\u001b[1;32m-> 2389\u001b[1;33m                         raise DimensionMismatchError(error_message,\n\u001b[0m\u001b[0;32m   2390\u001b[0m                                                      get_dimensions(newkeyset[k]))\n\u001b[0;32m   2391\u001b[0m \u001b[1;33m\u001b[0m\u001b[0m\n",
      "\u001b[1;31mDimensionMismatchError\u001b[0m: Function \"run\" expected a quantitity with unit second for argument \"duration\" but got 0.3 (unit is 1)."
     ]
    }
   ],
   "source": [
    "# A2.1a Enter your answer below\n",
    "\n",
    "# Hint: The unit of the I_input current in the neurodynex3.hodgkin_huxley module is µA (coded b2.uA)\n",
    "\n",
    "########################\n",
    "##   Q2.1. solution   ##\n",
    "########################\n",
    "N = 25\n",
    "current_amplitudes = np.linspace(0.1, 50, N)\n",
    "\n",
    "for i in current_amplitudes:\n",
    "#     print('input current: ', i)\n",
    "    I_input = input_factory.get_step_current(50,250,b2.ms, i*b2.uA) # µA\n",
    "    State_monitor = HH.simulate_HH_neuron(I_input, 300*b2.ms)\n",
    "    HH.plot_data(State_monitor, title='response of neuron with step current with amplitude {} µA'.format(i))\n",
    "    plt.show()"
   ]
  },
  {
   "cell_type": "code",
   "execution_count": 17,
   "metadata": {},
   "outputs": [],
   "source": [
    "# Enter your conclusion and interpretation\n",
    "\n",
    "##########################\n",
    "##   Q2.1. conclusion   ##\n",
    "##########################\n",
    "\n",
    "\n",
    "# Answer in green box below"
   ]
  },
  {
   "cell_type": "markdown",
   "metadata": {},
   "source": [
    "<div class=\"alert alert-success\">\n",
    "<span style=\"color:black\">\n",
    "    \n",
    "**A2.1 conclusion** \n",
    "    \n",
    "\\begin{tcolorbox}[colback=green!5]\n",
    "    \n",
    "Your answer here\n",
    "\n",
    "\\end{tcolorbox}\n",
    "    \n",
    "</span>"
   ]
  },
  {
   "cell_type": "markdown",
   "metadata": {
    "jp-MarkdownHeadingCollapsed": true,
    "tags": []
   },
   "source": [
    "### A2.2.1 Slow ramp current <a id=\"A2.2.1\"/>\n",
    "* [Go back to Q2.2.1](#Q2.2.1) "
   ]
  },
  {
   "cell_type": "code",
   "execution_count": 18,
   "metadata": {},
   "outputs": [],
   "source": [
    "# Enter your code below\n",
    "\n",
    "#########################\n",
    "##   Q2.2.1a solution   ##\n",
    "#########################\n",
    "N = 25\n",
    "current_durations = np.linspace(35, 105, N)\n",
    "duration_total = 130\n",
    "for t_end in current_durations:\n",
    "    I_input = input_factory.get_ramp_current(5, int(t_end), b2.ms, 0 * b2.uA, 14*b2.uA) # µA\n",
    "    State_monitor = HH.simulate_HH_neuron(I_input, duration_total*b2.ms)\n",
    "    sampling_time = duration_total/len(State_monitor.vm[0])\n",
    "    print('membrane voltage at time when the current injection stops: {} mV'.format(State_monitor.vm[0][int(t_end / sampling_time)]*1000))\n",
    "    HH.plot_data(State_monitor, title='response of neuron with slow ramp current with ramp end time {} ms'.format(int(t_end)))\n",
    "    plt.show()"
   ]
  },
  {
   "cell_type": "code",
   "execution_count": 19,
   "metadata": {},
   "outputs": [],
   "source": [
    "###########################\n",
    "##   Q2.2.1a conclusion   ##\n",
    "###########################\n",
    "\n",
    "\n",
    "# Answer in green box below"
   ]
  },
  {
   "cell_type": "markdown",
   "metadata": {},
   "source": [
    "<div class=\"alert alert-success\">\n",
    "<span style=\"color:black\">\n",
    "    \n",
    "**A2.2.1a conclusion** \n",
    "    \n",
    "\\begin{tcolorbox}[colback=green!5]\n",
    "    \n",
    "Your answer here\n",
    "\n",
    "\\end{tcolorbox}\n",
    "    \n",
    "</span>"
   ]
  },
  {
   "cell_type": "code",
   "execution_count": 20,
   "metadata": {},
   "outputs": [],
   "source": [
    "# Enter your code and answer below\n",
    "\n",
    "###########################\n",
    "##   Q2.2.1b solution    ##\n",
    "###########################\n",
    "    # see code in Q2.2.1a"
   ]
  },
  {
   "cell_type": "code",
   "execution_count": 21,
   "metadata": {},
   "outputs": [],
   "source": [
    "# Enter your answer below\n",
    "\n",
    "###########################\n",
    "##   Q2.2.1b answer      ##\n",
    "###########################\n",
    "\n",
    "    \n",
    "# Answer in green box below"
   ]
  },
  {
   "cell_type": "markdown",
   "metadata": {},
   "source": [
    "<div class=\"alert alert-success\">\n",
    "<span style=\"color:black\">\n",
    "    \n",
    "**A2.2.1b conclusion** \n",
    "    \n",
    "\\begin{tcolorbox}[colback=green!5]\n",
    "    \n",
    "Your answer here\n",
    "\n",
    "\\end{tcolorbox}\n",
    "</span>"
   ]
  },
  {
   "cell_type": "markdown",
   "metadata": {
    "jp-MarkdownHeadingCollapsed": true,
    "tags": []
   },
   "source": [
    "### A2.2.2 Fast ramp current <a id=\"A2.2.2\"/>\n",
    "* [Go back to Q2.2.2](#Q2.2.2) "
   ]
  },
  {
   "cell_type": "code",
   "execution_count": 22,
   "metadata": {},
   "outputs": [],
   "source": [
    "# Enter your code below\n",
    "\n",
    "# Hint: change the unit time to 0.1ms to get a smooth ramp current. \n",
    "\n",
    "#########################\n",
    "##   Q2.2.2a solution   ##\n",
    "#########################\n",
    "\n",
    "N = 25\n",
    "current_durations = np.linspace(10, 40, N)\n",
    "duration_total = 130\n",
    "for t_end in current_durations:\n",
    "    I_input = input_factory.get_ramp_current(5, int(t_end), 0.1*b2.ms, 0 * b2.uA, 5*b2.uA) # µA\n",
    "    State_monitor = HH.simulate_HH_neuron(I_input, duration_total*b2.ms)\n",
    "    sampling_time = duration_total/len(State_monitor.vm[0])\n",
    "    print('membrane voltage at time when the current injection stops: {} mV'.format(State_monitor.vm[0][int(t_end / sampling_time)]*1000))\n",
    "    HH.plot_data(State_monitor, title='response of neuron with slow ramp current with ramp end time {} ms'.format(int(t_end)))\n",
    "    plt.show()\n",
    "\n",
    "\n",
    "###########################\n",
    "##   Q2.2.2a conclusion   ##\n",
    "###########################\n",
    "\n",
    "\n",
    "# Answer in green box below"
   ]
  },
  {
   "cell_type": "markdown",
   "metadata": {},
   "source": [
    "<div class=\"alert alert-success\">\n",
    "<span style=\"color:black\">\n",
    "    \n",
    "**A2.2.2a conclusion** \n",
    "    \n",
    "\\begin{tcolorbox}[colback=green!5]\n",
    "    \n",
    "Your answer here\n",
    "\n",
    "\\end{tcolorbox}\n",
    "    \n",
    "</span>"
   ]
  },
  {
   "cell_type": "code",
   "execution_count": 23,
   "metadata": {},
   "outputs": [],
   "source": [
    "#insert your code here\n",
    "\n",
    "#########################\n",
    "##   Q2.2.2b solution  ##\n",
    "#########################\n",
    "\n",
    "# see code in Q2.2.2a\n",
    "\n",
    "###########################\n",
    "##   Q2.2.2b conclusion   ##\n",
    "###########################\n",
    "\n",
    "\n",
    "# Answer in green box below\n"
   ]
  },
  {
   "cell_type": "markdown",
   "metadata": {},
   "source": [
    "<div class=\"alert alert-success\">\n",
    "<span style=\"color:black\">\n",
    "    \n",
    "**A2.2.2b conclusion** \n",
    "    \n",
    "\\begin{tcolorbox}[colback=green!5]\n",
    "    \n",
    "Your answer here\n",
    "\n",
    "\\end{tcolorbox}\n",
    "    \n",
    "    \n",
    "</span>"
   ]
  },
  {
   "cell_type": "markdown",
   "metadata": {
    "jp-MarkdownHeadingCollapsed": true,
    "tags": []
   },
   "source": [
    "### A2.2.3 Differences <a id=\"A2.2.3\"/>\n",
    "* [Go back to Q2.2.3](#Q2.2.3) "
   ]
  },
  {
   "cell_type": "code",
   "execution_count": 24,
   "metadata": {},
   "outputs": [],
   "source": [
    "# Enter your answer below\n",
    "\n",
    "#########################\n",
    "##   Q2.2.3 solution   ##\n",
    "#########################\n",
    "\n",
    "# Answer in green box below"
   ]
  },
  {
   "cell_type": "markdown",
   "metadata": {},
   "source": [
    "<div class=\"alert alert-success\">\n",
    "<span style=\"color:black\">\n",
    "    \n",
    "**A2.2.3 conclusion** \n",
    "    \n",
    "\\begin{tcolorbox}[colback=green!5]\n",
    "\n",
    "Your answer here\n",
    "\n",
    "\\end{tcolorbox}\n",
    "    \n",
    "    \n",
    "   \n",
    "</span>"
   ]
  },
  {
   "cell_type": "markdown",
   "metadata": {
    "jp-MarkdownHeadingCollapsed": true,
    "tags": []
   },
   "source": [
    "### A2.3 Rebound spike <a id=\"A2.3\"/>\n",
    "* [Go back to Q2.3](#Q2.3) "
   ]
  },
  {
   "cell_type": "code",
   "execution_count": 25,
   "metadata": {
    "scrolled": false
   },
   "outputs": [],
   "source": [
    "# Enter your answer below\n",
    "\n",
    "#######################\n",
    "##   Q2.3 solution   ##\n",
    "#######################\n",
    "\n",
    "current_amplitudes = [-1, -5]\n",
    "\n",
    "for i in current_amplitudes:\n",
    "    I_input = input_factory.get_step_current(5,30,b2.ms, i*b2.uA) # µA\n",
    "    State_monitor = HH.simulate_HH_neuron(I_input, 50*b2.ms)\n",
    "    m,n,h = State_monitor.m[0], State_monitor.n[0], State_monitor.h[0]\n",
    "    HH.plot_data(State_monitor, title='response of neuron with step current with amplitude {} µA'.format(i))\n",
    "    plt.show()\n",
    "    plt.plot(m/n)\n",
    "    plt.plot(h)\n",
    "    plt.show()\n"
   ]
  },
  {
   "cell_type": "markdown",
   "metadata": {},
   "source": [
    "<div class=\"alert alert-success\">\n",
    "<span style=\"color:black\">\n",
    "\n",
    "**A2.3 conclusion** \n",
    "    \n",
    "\\begin{tcolorbox}[colback=green!5]\n",
    "    \n",
    "Your answer here\n",
    "\n",
    "\\end{tcolorbox}\n",
    "    \n",
    "</span>"
   ]
  },
  {
   "cell_type": "code",
   "execution_count": null,
   "metadata": {},
   "outputs": [],
   "source": []
  }
 ],
 "metadata": {
  "kernelspec": {
   "display_name": "ENV_CN",
   "language": "python",
   "name": "python3"
  },
  "language_info": {
   "codemirror_mode": {
    "name": "ipython",
    "version": 3
   },
   "file_extension": ".py",
   "mimetype": "text/x-python",
   "name": "python",
   "nbconvert_exporter": "python",
   "pygments_lexer": "ipython3",
   "version": "3.9.7"
  },
  "vscode": {
   "interpreter": {
    "hash": "db256bf93327d1261099420a940a9fc4723a67c8b13c1336dfdeeb0ee4bde13f"
   }
  }
 },
 "nbformat": 4,
 "nbformat_minor": 4
}
