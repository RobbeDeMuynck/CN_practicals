{
 "cells": [
  {
   "cell_type": "markdown",
   "metadata": {
    "tags": []
   },
   "source": [
    "# Lab Session #5\n",
    "## Computational Neurophysiology [E010620A]\n",
    "### Dept of Electronics and Informatics (VUB) and Dept of Information Technology (UGent)\n",
    "Jorne Laton, Lloyd Plumart, Talis Vertriest, Jeroen Van Schependom, Sarah Verhulst"
   ]
  },
  {
   "attachments": {},
   "cell_type": "markdown",
   "metadata": {},
   "source": [
    "<font color=blue>Student names and IDs:</font> Robbe De Beck [01902805], Robbe De Muynck [01908861]\n",
    "<br>\n",
    "<font color=blue>Academic Year:</font> 2022-2023"
   ]
  },
  {
   "cell_type": "markdown",
   "metadata": {},
   "source": [
    "# Module 3: Brunel network\n",
    "\n",
    "In this practical, you will simulate a network of sparsely connected identical Leaky-Integrate-and-Fire neurons. \n",
    "\n",
    "This model is based on the paper by [Brunel 2000](https://link.springer.com/article/10.1023/A:1008925309027) and is also discussed in [Neuronal Dynamics](http://neuronaldynamics.epfl.ch), see eg. Figure 13.7. \n",
    "\n",
    "We will show that a large network of neurons consisting of a group of excitatory and a group of inhibitory neurons that receive external input is capable of producing a rich dynamics. The parameters that we will vary to trigger different states are (1) the driving frequency of the external population and (2) the relative strength of inhibition vs excitation (g). \n",
    "\n",
    "To do so, we will follow two strategies both relying on the BRIAN package: the first strategy is to create our own network from scratch. This will allow you to get acquainted with the BRIAN package and will prepare you for the second strategy. Here, you will use a pre-defined spiking network (included in the BRIAN package), but you will have to make sure you understand its input and outputs in order to induce the correct behaviour. \n"
   ]
  },
  {
   "cell_type": "markdown",
   "metadata": {},
   "source": [
    "We start by ensuring all packages are loaded. Make sure to have installed the [Brian Package](https://briansimulator.org/) "
   ]
  },
  {
   "cell_type": "code",
   "execution_count": 1,
   "metadata": {},
   "outputs": [],
   "source": [
    "import brian2 as b2\n",
    "from brian2 import NeuronGroup, Synapses, PoissonInput\n",
    "from brian2.monitors import StateMonitor, SpikeMonitor, PopulationRateMonitor\n",
    "from random import sample\n",
    "from neurodynex3.tools import plot_tools, spike_tools\n",
    "from numpy import random\n",
    "import matplotlib.pyplot as plt\n",
    "import numpy as np"
   ]
  },
  {
   "cell_type": "markdown",
   "metadata": {},
   "source": [
    "## Step 1.1. Initialising the NeuronGroup instance\n",
    "\n",
    "We start by defining a NeuronGroup instance. You can find the documentation [here](https://brian2.readthedocs.io/en/2.0rc/reference/brian2.groups.neurongroup.NeuronGroup.html) \n",
    "\n",
    "A NeuronGroup instance takes as input the number of neurons, the dynamics of a single neuron 'model', the length of the refractory period and the integration method. Note that initialising the NeuronGroup will not yet run the simulation. Running the simulation will be done in the upcoming blocks once we have added all details to the network. \n",
    "\n",
    "The input parameters of the NeuronGroup instance should be: \n",
    "- number of neurons: N_Excit (4000) +N_Inhib (1000)\n",
    "- the model should model the LIF dynamics\n",
    "- the model should reset at a threshold v = v_reset (10 mV)\n",
    "- the neurons should have an absolute refractory period (2ms)\n",
    "- integration method should be linear\n",
    "\n",
    "What is the default firing threshold? "
   ]
  },
  {
   "cell_type": "code",
   "execution_count": 2,
   "metadata": {},
   "outputs": [
    {
     "name": "stdout",
     "output_type": "stream",
     "text": [
      "NeuronGroup(clock=Clock(dt=1. * msecond, name='defaultclock'), when=start, order=0, name='neurongroup')\n",
      "<neurongroup.v: array([0., 0., 0., ..., 0., 0., 0.]) * volt>\n"
     ]
    }
   ],
   "source": [
    "b2.start_scope()\n",
    "\n",
    "# https://compneuro.neuromatch.io/tutorials/W2D3_BiologicalNeuronModels/student/W2D3_Tutorial1.html\n",
    "N_Excit = 4000\n",
    "N_Inhib = 1000\n",
    "\n",
    "v_rest = 0*b2.mV\n",
    "firing_threshold = 10*b2.mV\n",
    "membrane_time_scale = 5*b2.ms   # Which value here ??\n",
    "abs_refractory_period = 2*b2.ms\n",
    "\n",
    "b2.defaultclock.dt = 1*b2.ms\n",
    "\n",
    "lif_dynamics = \"\"\"\n",
    "dv/dt = -((v - v_rest) +  I)/membrane_time_scale : volt\n",
    "I: volt\n",
    "\"\"\"\n",
    "\n",
    "network = NeuronGroup(\n",
    "    N_Excit+N_Inhib, model=lif_dynamics,\n",
    "    threshold='v > firing_threshold', refractory=abs_refractory_period,\n",
    "    method=\"linear\",reset='v = v_rest')\n",
    "\n",
    "print(network)\n",
    "print(network.v)"
   ]
  },
  {
   "attachments": {},
   "cell_type": "markdown",
   "metadata": {},
   "source": [
    "<div class=\"alert alert-success\">\n",
    "<span style=\"color:black\">\n",
    "\n",
    "**A1.1 Answer** \n",
    "\n",
    "\\begin{tcolorbox}[colback=green!5]\n",
    "    \n",
    "Your answer here\n",
    "\n",
    "\\end{tcolorbox}\n",
    "    \n",
    "</span>"
   ]
  },
  {
   "cell_type": "markdown",
   "metadata": {},
   "source": [
    "## Step 1.2. Add network structure\n",
    "Now that we have created a group of neurons, we will define how they are connected. In order to connect neurons to each other, we first need to distinguish the two neuronal populations (the excitatory and inhibitory population). In order to define the first N_Excit neurons to be excitatory and the remaining part to be inhibitory, you can simply use the following code snippet. "
   ]
  },
  {
   "cell_type": "code",
   "execution_count": 3,
   "metadata": {},
   "outputs": [],
   "source": [
    "excitatory_population = network[:N_Excit]\n",
    "inhibitory_population = network[N_Excit:]"
   ]
  },
  {
   "cell_type": "markdown",
   "metadata": {},
   "source": [
    "Now, we need to define two types of synapses: excitatory and inhibitory synapses. Allow for a synaptic delay of 1.5*b2.ms and use a random connection probability of 0.1. You can find the documentation [here](https://brian2.readthedocs.io/en/stable/user/synapses.html) \n",
    "In order to follow the notations in the book, please use following notation and default values: \n",
    "\n",
    "What is the \"target\" network? "
   ]
  },
  {
   "cell_type": "code",
   "execution_count": 4,
   "metadata": {},
   "outputs": [],
   "source": [
    "w0 = 0.1*b2.mV\n",
    "g = 4.0\n",
    "J_excit = w0\n",
    "J_inhib = -g*w0\n",
    "synaptic_delay = 1.5*b2.ms\n",
    "connection_probability = 0.1\n",
    "\n",
    "exc_synapses = Synapses(excitatory_population, target=network, on_pre=\"v += J_excit\", delay=synaptic_delay)\n",
    "exc_synapses.connect(p=connection_probability)\n",
    "\n",
    "inhib_synapses = Synapses(inhibitory_population, target=network, on_pre=\"v += J_inhib\", delay=synaptic_delay)\n",
    "inhib_synapses.connect(p=connection_probability)"
   ]
  },
  {
   "cell_type": "markdown",
   "metadata": {},
   "source": [
    "<div class=\"alert alert-success\">\n",
    "<span style=\"color:black\">\n",
    "\n",
    "**A1.2 Answer** \n",
    "\n",
    "\\begin{tcolorbox}[colback=green!5]\n",
    "    \n",
    "Your answer here\n",
    "\n",
    "\\end{tcolorbox}\n",
    "    \n",
    "</span>"
   ]
  },
  {
   "cell_type": "markdown",
   "metadata": {},
   "source": [
    "## Step 1.3. Enter external Poisson input\n",
    "Next, you can excite the network through an externally applied Poisson input, by using [Poisson Input](https://brian2.readthedocs.io/en/stable/reference/brian2.input.poissoninput.PoissonInput.html). Start with N = 1000 external Poisson neurons at an input rate of 13 Hz with a connectivity strength w = w0. \n",
    "\n"
   ]
  },
  {
   "cell_type": "code",
   "execution_count": 5,
   "metadata": {},
   "outputs": [],
   "source": [
    "poisson_input_rate = 13*b2.Hz\n",
    "N_extern = 1000\n",
    "w_external = w0; \n",
    "external_poisson_input = PoissonInput(target=network, target_var=\"I\", N=N_extern,\n",
    "                                          rate=poisson_input_rate, weight=w_external)\n"
   ]
  },
  {
   "cell_type": "markdown",
   "metadata": {},
   "source": [
    "## Step 1.4. Add monitors \n",
    "In the final step before running the simulation we will add some monitors that allows us to assess the simulated network once the simulation has finished. In order to do so, we will monitor a random selection of 100 neurons and the use the [PopulationRateMonitor](https://brian2.readthedocs.io/en/2.0rc/reference/brian2.monitors.ratemonitor.PopulationRateMonitor.html), [SpikeMonitor](https://brian2.readthedocs.io/en/2.0rc/reference/brian2.monitors.ratemonitor.PopulationRateMonitor.html) and [StateMonitor](https://brian2.readthedocs.io/en/stable/reference/brian2.monitors.statemonitor.StateMonitor.html). \n",
    "\n",
    "Sample 200 of all neurons involved. "
   ]
  },
  {
   "cell_type": "code",
   "execution_count": 6,
   "metadata": {},
   "outputs": [],
   "source": [
    "monitored_subset_size = 100 \n",
    "idx_monitored_neurons = sample(range(N_Excit + N_Inhib), monitored_subset_size)\n",
    "\n",
    "rate_monitor = PopulationRateMonitor(network)\n",
    "spike_monitor = SpikeMonitor(network, record=idx_monitored_neurons)\n",
    "voltage_monitor = StateMonitor(network, \"v\", record=idx_monitored_neurons)\n"
   ]
  },
  {
   "cell_type": "markdown",
   "metadata": {},
   "source": [
    "## Step 1.5. Run the simulation\n",
    "Run the simulation for a total simulated time of 500 ms using the following line of code. Describe what is plotted. \n"
   ]
  },
  {
   "cell_type": "code",
   "execution_count": 7,
   "metadata": {},
   "outputs": [],
   "source": [
    "sim_time=100.*b2.ms\n",
    "b2.run(sim_time)"
   ]
  },
  {
   "cell_type": "code",
   "execution_count": 8,
   "metadata": {},
   "outputs": [
    {
     "data": {
      "text/plain": [
       "(<Figure size 720x720 with 3 Axes>,\n",
       " <AxesSubplot:title={'center':'Raster Plot'}, ylabel='neuron #'>,\n",
       " <AxesSubplot:title={'center':'Population Activity'}, ylabel='A(t) [Hz]'>,\n",
       " <AxesSubplot:title={'center':'Voltage Traces'}, xlabel='t [ms]', ylabel='V(t) [mV]'>)"
      ]
     },
     "execution_count": 8,
     "metadata": {},
     "output_type": "execute_result"
    },
    {
     "data": {
      "image/png": "[encoded data removed]",
      "text/plain": [
       "<Figure size 720x720 with 3 Axes>"
      ]
     },
     "metadata": {
      "needs_background": "light"
     },
     "output_type": "display_data"
    }
   ],
   "source": [
    "plot_tools.plot_network_activity(rate_monitor, spike_monitor, \\\n",
    "                                 voltage_monitor, spike_train_idx_list=idx_monitored_neurons,\\\n",
    "                                 figure_size=(10, 10))\n"
   ]
  },
  {
   "cell_type": "markdown",
   "metadata": {},
   "source": [
    "Access the data in rate_monitor, spike_monitor, voltage_monitor"
   ]
  },
  {
   "cell_type": "markdown",
   "metadata": {},
   "source": [
    "First, describe what is described in rate_monitor.rate. Use the smooth_rate function (flat window) to the outputted rates. Make sure to only include the last 150 ms of your simulation. Plot the smoothed_rate in function of time and calculate the mean of the rate across this time window. \n",
    "\n",
    "You can the time axis from rate_monitor.t"
   ]
  },
  {
   "cell_type": "code",
   "execution_count": null,
   "metadata": {},
   "outputs": [],
   "source": [
    "ts = rate_monitor.t / b2.ms\n",
    "t_min = 350; t_max = 500 "
   ]
  },
  {
   "cell_type": "markdown",
   "metadata": {},
   "source": [
    "Now, vary the window width across which the rate is averaged and write down your observations (do plot!). \n",
    "\n"
   ]
  },
  {
   "cell_type": "code",
   "execution_count": null,
   "metadata": {},
   "outputs": [],
   "source": [
    "window_widths = [0.5,5,10,20]*b2.ms;\n",
    "\n",
    "for i in range(0,4):\n",
    "    print(i)\n",
    "    smoothed_rates = rate_monitor.smooth_rate(window=\"flat\", width=window_widths[i])/b2.Hz\n",
    "    plt.subplot(4,1,i+1)\n",
    "    plt.plot(ts[idx_rate],smoothed_rates[idx_rate])\n",
    "\n",
    "    print(np.mean(smoothed_rates[idx_rate]))"
   ]
  },
  {
   "cell_type": "markdown",
   "metadata": {},
   "source": [
    "Now, study what is saved in spike_monitor. Start by creating eventtrains. What is the mean time between two subsequent spikes?  "
   ]
  },
  {
   "cell_type": "code",
   "execution_count": null,
   "metadata": {},
   "outputs": [],
   "source": [
    "eventtrains = spike_monitor.event_trains();\n",
    "\n",
    "# ADD your code here"
   ]
  },
  {
   "cell_type": "markdown",
   "metadata": {},
   "source": [
    "<div class=\"alert alert-success\">\n",
    "<span style=\"color:black\">\n",
    "\n",
    "**A1.5 Answer** \n",
    "\n",
    "\\begin{tcolorbox}[colback=green!5]\n",
    "    \n",
    "Your answer here\n",
    "\n",
    "\\end{tcolorbox}\n",
    "    \n",
    "</span>"
   ]
  },
  {
   "cell_type": "markdown",
   "metadata": {},
   "source": [
    "# 2. The pre-implemented Brunel network\n",
    "\n",
    "Import the LIF_spiking_network function from neurodynex3.brunel_model and use this function to simulate a network consisting of 10000 excitatory neurons, 2500 inhibitory neurons and 1000 external neurons. \n",
    "\n",
    "Further, \n",
    "- w0 = 0.1 mV\n",
    "- total simulated time of 500 ms\n",
    "- the membrane time scale can be put to default (LIF_spiking_network.MEMBRANE_TIME_SCALE)\n",
    "- the same goes for the firing threshold (LIF_spiking_network.FIRING_THRESHOLD)\n",
    "- monitored_subset = 50\n",
    "- synaptic delay is 1.5ms \n",
    "\n",
    "We will vary two parameters: g (an input parameter to simulate_brunel_network) and, second, the firing frequency of the external neurons $\\nu_{extern}$. The latter should be expressed as a ratio multiplied with $\\nu_{threshold}$. The frequency $\\nu_{threshold}$ is the minimal poisson rate in the external neuronal population required to elicit firing in the network in the absence of any feedback. \n",
    "\n",
    "According to Brunel (2000), $\\nu_{threshold}$ can be calculated as: \n",
    "\n",
    "\\begin{align}\n",
    "\\nu_{threshold} &= \\frac{\\theta}{N_{extern}w_0\\tau_m}\n",
    "\\end{align}\n",
    "\n",
    "Does this expression make sense? \n",
    "\n",
    "For starters, you can use g=6 and $\\nu_{extern} = 4\\nu_{threshold}$\n",
    "\n",
    "Calculate $\\nu_{threshold}$ in function of the parameters mentioned above and the corresponding $\\nu_{extern}$. And run the simulation. Make sure to output rate_monitor, spike_monitor, voltage_monitor and monitored_spike_idx.\n",
    "\n",
    "Make sure to start each simulation with a \"b2.start_scope()\" statement. "
   ]
  },
  {
   "cell_type": "code",
   "execution_count": null,
   "metadata": {},
   "outputs": [],
   "source": [
    "from neurodynex3.brunel_model import LIF_spiking_network\n",
    "b2.start_scope()\n",
    "\n",
    "# ADD your code here\n",
    "N_Excit = 10000\n",
    "N_Inhib = 2500\n",
    "N_extern = 1000\n",
    "\n",
    "w0 = 0.1*b2.mV\n",
    "sim_time = 500*b2.ms\n",
    "\n",
    "\n",
    "# g = 4.0\n",
    "# J_excit = w0\n",
    "# J_inhib = -g*w0\n",
    "# synaptic_delay = 1.5*b2.ms\n",
    "# connection_probability = 0.1\n",
    "# w_external = w0;\n",
    "\n",
    "# v_rest = 0*b2.mV\n",
    "# firing_threshold = 10*b2.mV\n",
    "# membrane_time_scale = 5*b2.ms   # Which value here ??\n",
    "# abs_refractory_period = 2*b2.ms\n",
    "\n",
    "# b2.defaultclock.dt = 1*b2.ms"
   ]
  },
  {
   "cell_type": "code",
   "execution_count": null,
   "metadata": {},
   "outputs": [],
   "source": [
    "rate_monitor, spike_monitor, voltage_monitor, monitored_spike_idx = \\\n",
    "    LIF_spiking_network.simulate_brunel_network(XXXX)"
   ]
  },
  {
   "cell_type": "markdown",
   "metadata": {},
   "source": [
    "Plot the output using \"plot_network_activity\", make sure to add the \"t_min\" and \"t_max\" parameter and increase the figure size to figure_size=(10,10). "
   ]
  },
  {
   "cell_type": "code",
   "execution_count": null,
   "metadata": {},
   "outputs": [],
   "source": [
    "plot_tools.plot_network_activity(rate_monitor, spike_monitor, \\\n",
    "                                 voltage_monitor, spike_train_idx_list=monitored_spike_idx,\\\n",
    "                                 XXXX,\\\n",
    "                                 figure_size=(10, 10))"
   ]
  },
  {
   "cell_type": "markdown",
   "metadata": {},
   "source": [
    "The first output to analyse is the rate_monitor. \n",
    "Plot - for different choices of window width (0.5, 5, 20) ms - the smoothed_rates and calculate the mean of smoothed_rate across a time window (e.g. between 300 and 450 ms). How does this compare to Table 1 in Brunel (2000)? \n"
   ]
  },
  {
   "cell_type": "code",
   "execution_count": null,
   "metadata": {},
   "outputs": [],
   "source": []
  },
  {
   "cell_type": "markdown",
   "metadata": {},
   "source": [
    "Next, we want to assess the global frequency content in rate_monitor. We know that if we have a time signal of 0.5 seconds, the maximal frequency resolution is 2 Hz. Be aware that Welch' method as implemented will chop the data in different pieces (to enable the averaging of the spectrum) yielding a smaller frequency resolution.  \n",
    "\n",
    "Start by smoothing the rate with a window of 0.5 ms and calculate the spectrum using [signal.welch](https://docs.scipy.org/doc/scipy/reference/generated/scipy.signal.welch.html). What is the sampling frequency fs? \n",
    "\n",
    "Plot the spectrum. What is the frequency resolution (look at np.diff(f)[0]). Can you explain how signal.welch arrives at this frequency resolution if you know that it - by default - includes 256 samples and if you check the integration time constant (typically 0.05 ms, but check b2.defaultclock.dt) that you used for the simulation? \n",
    "\n",
    "What happens if you impose nperseg = 256*8? \n",
    "\n",
    "What happens if you impose nfft = 10000 ? (Answer: you interpolate the spectrum). "
   ]
  },
  {
   "cell_type": "code",
   "execution_count": null,
   "metadata": {},
   "outputs": [],
   "source": [
    "smoothed_rates = rate_monitor.smooth_rate(XXXX)\n",
    "\n"
   ]
  },
  {
   "cell_type": "markdown",
   "metadata": {},
   "source": [
    "We will now use the machinery provided by BRIAN to calculate and plot the power spectrum. BRIAN takes a slightly different approach. BRIAN starts from a desired frequency resolution, a desired number of windows over which the spectrum should be averaged and an initial time segment that should be ignored. Based on these desiredata, the minimal simulation length is calculated. \n",
    "\n",
    "Example: if we want a frequency resolution of 5 Hz, we need time windows of 200 ms. If we assume non-overlapping time windows and a number of averages the total simulated signal should be k*200ms. \n",
    "\n",
    "In this case, we have simulated 0.5 seconds of data. If we aim for an initial segment to be removed of 99ms and a frequency resolution of 10 Hz, what is then the maximal number of windows we can include? "
   ]
  },
  {
   "cell_type": "code",
   "execution_count": null,
   "metadata": {},
   "outputs": [],
   "source": [
    "delta_f = 10*b2.Hz;\n",
    "k = XXX\n",
    "T_init = 99*b2.ms+b2.defaultclock.dt; \n",
    "\n",
    "pop_freqs, pop_ps, average_population_rate = \\\n",
    "    spike_tools.get_population_activity_power_spectrum(rate_monitor, delta_f, k, T_init)\n",
    "plot_tools.plot_population_activity_power_spectrum(pop_freqs, pop_ps, 250 *b2.Hz, None)"
   ]
  },
  {
   "cell_type": "markdown",
   "metadata": {},
   "source": [
    "<div class=\"alert alert-success\">\n",
    "<span style=\"color:black\">\n",
    "\n",
    "**2 Answer** \n",
    "\n",
    "The network activity plots show a similar behaviour as in exercise 1, from the raster plot we can deduct that the mean time between spikes also seems to be a little less than 20ms. Again, the smoothed rate with a window width of 5ms seems to give the best results. In the period of 150ms, peaks in the rate can be observed clearly, with an average of 15 - 20ms in between (sometimes only 10ms, sometimes 30ms). Comparing this to the results from the previous exercise shows that although it is very similar, the rate seems to follow a more constant shape for the second simulation than for the first.\n",
    "    \n",
    "The power spectrum is calculated using a sampling rate fs = 20000 Hz. For the first set of parameters, the frequency resolution is 78Hz. This is because $\\Delta f = fs/N = 20000 Hz / 256 = 78.12 Hz$. nperseg in signal.welch changes the number of samples, so if this is changed to 8*256, the frequency resolution will be 8 times smaller, so $\\Delta f = 9.76 Hz$. The value of nfft (length of the fft used) defaults to None, meaning the value of nperseg is used. So if at last we change the nfft to 10000, the spectrum itself will be interpolated and the frequency resolution will be $\\Delta f = 20000 Hz / 10000 = 2 Hz$. This is interpolating explains why although the spectrum has a lower frequency resolution, it appears smoother than the one with a frequency resolution of 9 Hz.\n",
    "    \n",
    "For the power spectrum calculated with the brian package, the maximal amount of windows k = 4. This is because our simulation time was originally 500 ms but because we don't use the first 99 ms we only have 401 ms left. A frequency resolution of 10 Hz gives us a window width of 100 ms and because $ t_{sim} = k * w_{window} $, we know k = 4.\n",
    "</span>"
   ]
  },
  {
   "cell_type": "markdown",
   "metadata": {},
   "source": [
    "## 3 Explore the dynamics. \n",
    "Repeat the steps in ##2 for the following set of parameters: \n",
    "\n",
    "(A) g = 3, $\\nu_{extern}/\\nu_{threshold} = 2$ \n",
    "\n",
    "(B) g = 6, $\\nu_{extern}/\\nu_{threshold} = 2$ \n",
    "\n",
    "(C) g = 4.5, $\\nu_{extern}/\\nu_{threshold} = 0.95$\n",
    "\n",
    "Describe what you observe."
   ]
  },
  {
   "cell_type": "markdown",
   "metadata": {},
   "source": [
    "## A : g = 3, $\\nu_{extern}/\\nu_{threshold} = 2$"
   ]
  },
  {
   "cell_type": "code",
   "execution_count": null,
   "metadata": {},
   "outputs": [],
   "source": []
  },
  {
   "cell_type": "markdown",
   "metadata": {},
   "source": [
    "<div class=\"alert alert-success\">\n",
    "<span style=\"color:black\">\n",
    "\n",
    "**3A Answer** \n",
    "    \n",
    "We notice in the raster plot that some of the neurons (e.g neuron 25) fire similarly as seen in the previous exercises, with a period of about 20ms between spikes. On the other hand we see that some neurons take a longer time to spike again, for neuron 12 there is about 50ms between the first two spikes. If we then also take a look at neuron 37, we see that here the time between spikes is only about 10ms. We can conclude that a lower relative inhibitory strength g and a lower v_extern results in bigger differences between the spiking patterns of the neurons. The mean firing rate is also a little higher with a value of 52Hz.\n",
    "\n",
    "</span>"
   ]
  },
  {
   "cell_type": "markdown",
   "metadata": {},
   "source": [
    "## B : g = 6, $\\nu_{extern}/\\nu_{threshold} = 2$ "
   ]
  },
  {
   "cell_type": "code",
   "execution_count": null,
   "metadata": {},
   "outputs": [],
   "source": []
  },
  {
   "cell_type": "markdown",
   "metadata": {},
   "source": [
    "<div class=\"alert alert-success\">\n",
    "<span style=\"color:black\">\n",
    "\n",
    "**3B Answer** \n",
    "\n",
    "The results show a similar pattern as for the parameters used in exercise 2, with a similarity between the spiking patterns of the different neurons. We thus conclude that this similarity probably depends on the value of g the most.\n",
    "\n",
    "</span>"
   ]
  },
  {
   "cell_type": "markdown",
   "metadata": {},
   "source": [
    "## C : g = 4.5, $\\nu_{extern}/\\nu_{threshold} = 0.95$"
   ]
  },
  {
   "cell_type": "code",
   "execution_count": null,
   "metadata": {},
   "outputs": [],
   "source": []
  },
  {
   "cell_type": "markdown",
   "metadata": {},
   "source": [
    "<div class=\"alert alert-success\">\n",
    "<span style=\"color:black\">\n",
    "\n",
    "**3C Answer** \n",
    "\n",
    "For this set of parameters there again seems to be a discrepancy in firing patterns between the neurons, so the combination of a relatively low g with a very low v_extern gives similar results as for A, although with a lower mean firing rate of 48Hz.\n",
    "</span>"
   ]
  }
 ],
 "metadata": {
  "kernelspec": {
   "display_name": "Python 3 (ipykernel)",
   "language": "python",
   "name": "python3"
  },
  "language_info": {
   "codemirror_mode": {
    "name": "ipython",
    "version": 3
   },
   "file_extension": ".py",
   "mimetype": "text/x-python",
   "name": "python",
   "nbconvert_exporter": "python",
   "pygments_lexer": "ipython3",
   "version": "3.9.7"
  }
 },
 "nbformat": 4,
 "nbformat_minor": 4
}
